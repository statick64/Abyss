{
 "cells": [
  {
   "cell_type": "code",
   "execution_count": 29,
   "metadata": {},
   "outputs": [],
   "source": [
    "from PIL import Image\n",
    "from urllib.request import urlretrieve\n",
    "import pytube\n",
    "from pytube import YouTube as yt\n",
    "from __future__ import unicode_literals\n",
    "import youtube_dl\n",
    "import requests\n",
    "from pprint import pprint\n",
    "import os\n",
    "import json\n",
    "try:\n",
    "\n",
    "   from StringIO import StringIO\n",
    "\n",
    "except ImportError:\n",
    "\n",
    "   from io import StringIO"
   ]
  },
  {
   "cell_type": "code",
   "execution_count": 44,
   "metadata": {},
   "outputs": [],
   "source": [
    "def my_hook(d):\n",
    "    if d['status'] == 'finished':\n",
    "        file_tuple = os.path.split(os.path.abspath(d['filename']))\n",
    "        print(\"Done downloading {}\".format(file_tuple[1]))\n",
    "    if d['status'] == 'downloading':\n",
    "        print (d['_percent_str'] + \"rammu\")"
   ]
  },
  {
   "cell_type": "code",
   "execution_count": 45,
   "metadata": {},
   "outputs": [],
   "source": [
    "def download_clip(url, name):\n",
    "    ydl_opts = {\n",
    "        'format': '136',\n",
    "        'noplaylist': True,\n",
    "        'continue_dl': True,\n",
    "        'progress_hooks': [my_hook],\n",
    "    }\n",
    "    try:\n",
    "        with youtube_dl.YoutubeDL(ydl_opts) as ydl:\n",
    "            ydl.cache.remove()\n",
    "            info_dict = ydl.extract_info(url, download=False)\n",
    "            ydl.prepare_filename(info_dict)\n",
    "            ydl.download([url])\n",
    "            print(my_hook())\n",
    "    except Exception:\n",
    "        return False "
   ]
  },
  {
   "cell_type": "code",
   "execution_count": 47,
   "metadata": {},
   "outputs": [
    {
     "name": "stdout",
     "output_type": "stream",
     "text": [
      "Removing cache dir C:\\Users\\Kenne/.cache\\youtube-dl ..\n",
      "[youtube] 0pBUfrLi_Q0: Downloading webpage\n",
      "[youtube] Downloading just video 0pBUfrLi_Q0 because of --no-playlist\n",
      "[youtube] 0pBUfrLi_Q0: Downloading webpage\n",
      "[youtube] Downloading just video 0pBUfrLi_Q0 because of --no-playlist\n",
      "[download] Destination: DevOps and Git Workflows explained _ Crash Course-0pBUfrLi_Q0.mp4\n",
      "[download]   0.0% of 73.58MiB at 124.49KiB/s ETA 10:05  0.0%rammu\n",
      "[download]   0.0% of 73.58MiB at 332.04KiB/s ETA 03:46  0.0%rammu\n",
      "[download]   0.0% of 73.58MiB at 697.66KiB/s ETA 01:47  0.0%rammu\n",
      "[download]   0.0% of 73.58MiB at  1.33MiB/s ETA 00:55   0.0%rammu\n",
      "[download]   0.0% of 73.58MiB at  2.52MiB/s ETA 00:29   0.0%rammu\n",
      "[download]   0.1% of 73.58MiB at  3.61MiB/s ETA 00:20   0.1%rammu\n",
      "[download]   0.2% of 73.58MiB at  1.88MiB/s ETA 00:39   0.2%rammu\n",
      "[download]   0.3% of 73.58MiB at  1.54MiB/s ETA 00:47   0.3%rammu\n",
      "[download]   0.7% of 73.58MiB at  1.97MiB/s ETA 00:37   0.7%rammu\n",
      "[download]   1.4% of 73.58MiB at  2.08MiB/s ETA 00:34   1.4%rammu\n",
      "[download]   2.7% of 73.58MiB at  1.85MiB/s ETA 00:38   2.7%rammu\n",
      "[download]   5.0% of 73.58MiB at  1.85MiB/s ETA 00:37   5.0%rammu\n",
      "[download]   7.5% of 73.58MiB at  1.53MiB/s ETA 00:44   7.5%rammu\n",
      "[download]   9.0% of 73.58MiB at  1.38MiB/s ETA 00:48   9.0%rammu\n",
      "[download]  10.3% of 73.58MiB at  1.31MiB/s ETA 00:50  10.3%rammu\n",
      "[download]  11.6% of 73.58MiB at  1.26MiB/s ETA 00:51  11.6%rammu\n",
      "[download]  13.0% of 73.58MiB at  1.23MiB/s ETA 00:52  13.0%rammu\n",
      "[download]  13.3% of 73.58MiB at  1.22MiB/s ETA 00:52  13.3%rammu\n",
      "[download]  13.3% of 73.58MiB at Unknown speed ETA Unknown ETA 13.3%rammu\n",
      "[download]  13.3% of 73.58MiB at 752.16KiB/s ETA 01:26         13.3%rammu\n",
      "[download]  13.3% of 73.58MiB at  1.71MiB/s ETA 00:37          13.3%rammu\n",
      "[download]  13.3% of 73.58MiB at  2.10MiB/s ETA 00:30          13.3%rammu\n",
      "[download]  13.4% of 73.58MiB at  3.37MiB/s ETA 00:18          13.4%rammu\n",
      "[download]  13.4% of 73.58MiB at  5.61MiB/s ETA 00:11          13.4%rammu\n",
      "[download]  13.5% of 73.58MiB at  2.00MiB/s ETA 00:31          13.5%rammu\n",
      "[download]  13.7% of 73.58MiB at  1.59MiB/s ETA 00:40          13.7%rammu\n",
      "[download]  14.0% of 73.58MiB at  1.70MiB/s ETA 00:37          14.0%rammu\n",
      "[download]  14.7% of 73.58MiB at  1.86MiB/s ETA 00:33          14.7%rammu\n",
      "[download]  16.0% of 73.58MiB at  2.26MiB/s ETA 00:27          16.0%rammu\n",
      "[download]  18.8% of 73.58MiB at  1.63MiB/s ETA 00:36          18.8%rammu\n",
      "[download]  20.5% of 73.58MiB at  1.65MiB/s ETA 00:35          20.5%rammu\n",
      "[download]  22.8% of 73.58MiB at  1.47MiB/s ETA 00:38          22.8%rammu\n",
      "[download]  24.3% of 73.58MiB at  1.38MiB/s ETA 00:40          24.3%rammu\n",
      "[download]  25.7% of 73.58MiB at  1.31MiB/s ETA 00:41          25.7%rammu\n",
      "[download]  26.7% of 73.58MiB at  1.28MiB/s ETA 00:42          26.7%rammu\n",
      "[download]  26.7% of 73.58MiB at Unknown speed ETA Unknown ETA 26.7%rammu\n",
      "[download]  26.7% of 73.58MiB at 763.76KiB/s ETA 01:12         26.7%rammu\n",
      "[download]  26.7% of 73.58MiB at 1010.99KiB/s ETA 00:54        26.7%rammu\n",
      "[download]  26.7% of 73.58MiB at  1.48MiB/s ETA 00:36          26.7%rammu\n",
      "[download]  26.7% of 73.58MiB at  1.52MiB/s ETA 00:35          26.7%rammu\n",
      "[download]  26.8% of 73.58MiB at  2.29MiB/s ETA 00:23          26.8%rammu\n",
      "[download]  26.8% of 73.58MiB at  1.65MiB/s ETA 00:32          26.8%rammu\n",
      "[download]  27.0% of 73.58MiB at  1.67MiB/s ETA 00:32          27.0%rammu\n",
      "[download]  27.4% of 73.58MiB at  1.87MiB/s ETA 00:28          27.4%rammu\n",
      "[download]  28.0% of 73.58MiB at  1.92MiB/s ETA 00:27          28.0%rammu\n",
      "[download]  29.4% of 73.58MiB at  2.41MiB/s ETA 00:21          29.4%rammu\n",
      "[download]  32.1% of 73.58MiB at  2.41MiB/s ETA 00:20          32.1%rammu\n",
      "[download]  35.4% of 73.58MiB at  1.67MiB/s ETA 00:28          35.4%rammu\n",
      "[download]  37.0% of 73.58MiB at  1.50MiB/s ETA 00:30          37.0%rammu\n",
      "[download]  38.4% of 73.58MiB at  1.41MiB/s ETA 00:32          38.4%rammu\n",
      "[download]  39.6% of 73.58MiB at  1.37MiB/s ETA 00:32          39.6%rammu\n",
      "[download]  39.7% of 73.58MiB at  1.37MiB/s ETA 00:32          39.7%rammu\n",
      "[download]  39.7% of 73.58MiB at Unknown speed ETA Unknown ETA 39.7%rammu\n",
      "[download]  39.7% of 73.58MiB at Unknown speed ETA Unknown ETA 39.7%rammu\n",
      "[download]  39.7% of 73.58MiB at  3.50MiB/s ETA 00:12          39.7%rammu\n",
      "[download]  39.8% of 73.58MiB at  4.96MiB/s ETA 00:08          39.8%rammu\n",
      "[download]  39.8% of 73.58MiB at  5.09MiB/s ETA 00:08          39.8%rammu\n",
      "[download]  39.8% of 73.58MiB at  1.76MiB/s ETA 00:25          39.8%rammu\n",
      "[download]  39.9% of 73.58MiB at  1.18MiB/s ETA 00:37          39.9%rammu\n",
      "[download]  40.1% of 73.58MiB at  1.75MiB/s ETA 00:25          40.1%rammu\n",
      "[download]  40.4% of 73.58MiB at  2.04MiB/s ETA 00:21          40.4%rammu\n",
      "[download]  41.1% of 73.58MiB at  1.18MiB/s ETA 00:36          41.1%rammu\n",
      "[download]  42.2% of 73.58MiB at 770.42KiB/s ETA 00:56         42.2%rammu\n",
      "[download]  42.9% of 73.58MiB at 714.33KiB/s ETA 01:00         42.9%rammu\n",
      "[download]  43.7% of 73.58MiB at 783.46KiB/s ETA 00:54         43.7%rammu\n",
      "[download]  45.2% of 73.58MiB at 886.97KiB/s ETA 00:46         45.2%rammu\n",
      "[download]  47.0% of 73.58MiB at 950.24KiB/s ETA 00:42         47.0%rammu\n",
      "[download]  48.6% of 73.58MiB at 971.22KiB/s ETA 00:39         48.6%rammu\n",
      "[download]  50.0% of 73.58MiB at 1001.44KiB/s ETA 00:37        50.0%rammu\n",
      "[download]  51.7% of 73.58MiB at 1014.67KiB/s ETA 00:35        51.7%rammu\n",
      "[download]  53.0% of 73.58MiB at  1.00MiB/s ETA 00:34          53.0%rammu\n",
      "[download]  53.0% of 73.58MiB at 200.15KiB/s ETA 02:57         53.0%rammu\n",
      "[download]  53.0% of 73.58MiB at 246.99KiB/s ETA 02:23         53.0%rammu\n",
      "[download]  53.0% of 73.58MiB at 462.27KiB/s ETA 01:16         53.0%rammu\n",
      "[download]  53.0% of 73.58MiB at 784.07KiB/s ETA 00:45         53.0%rammu\n",
      "[download]  53.0% of 73.58MiB at  1.08MiB/s ETA 00:32          53.0%rammu\n",
      "[download]  53.0% of 73.58MiB at  1.92MiB/s ETA 00:18          53.0%rammu\n",
      "[download]  53.1% of 73.58MiB at  1.76MiB/s ETA 00:19          53.1%rammu\n",
      "[download]  53.3% of 73.58MiB at  1.78MiB/s ETA 00:19          53.3%rammu\n",
      "[download]  53.6% of 73.58MiB at  2.03MiB/s ETA 00:16          53.6%rammu\n",
      "[download]  54.3% of 73.58MiB at  2.00MiB/s ETA 00:16          54.3%rammu\n",
      "[download]  55.7% of 73.58MiB at  2.14MiB/s ETA 00:15          55.7%rammu\n",
      "[download]  58.4% of 73.58MiB at  1.60MiB/s ETA 00:19          58.4%rammu\n",
      "[download]  60.1% of 73.58MiB at  1.48MiB/s ETA 00:19          60.1%rammu\n",
      "[download]  61.7% of 73.58MiB at  1.37MiB/s ETA 00:20          61.7%rammu\n",
      "[download]  63.1% of 73.58MiB at  1.33MiB/s ETA 00:20          63.1%rammu\n",
      "[download]  64.7% of 73.58MiB at  1.30MiB/s ETA 00:20          64.7%rammu\n",
      "[download]  66.2% of 73.58MiB at  1.26MiB/s ETA 00:19          66.2%rammu\n",
      "[download]  66.2% of 73.58MiB at  1.26MiB/s ETA 00:19          66.2%rammu\n",
      "[download]  66.2% of 73.58MiB at 502.07KiB/s ETA 00:50         66.2%rammu\n",
      "[download]  66.2% of 73.58MiB at 990.16KiB/s ETA 00:25         66.2%rammu\n",
      "[download]  66.2% of 73.58MiB at  1.37MiB/s ETA 00:18          66.2%rammu\n",
      "[download]  66.2% of 73.58MiB at  1.47MiB/s ETA 00:16          66.2%rammu\n",
      "[download]  66.3% of 73.58MiB at  2.33MiB/s ETA 00:10          66.3%rammu\n",
      "[download]  66.3% of 73.58MiB at  3.63MiB/s ETA 00:06          66.3%rammu\n",
      "[download]  66.4% of 73.58MiB at  1.94MiB/s ETA 00:12          66.4%rammu\n",
      "[download]  66.6% of 73.58MiB at  2.21MiB/s ETA 00:11          66.6%rammu\n",
      "[download]  66.9% of 73.58MiB at  2.21MiB/s ETA 00:11          66.9%rammu\n",
      "[download]  67.6% of 73.58MiB at  2.45MiB/s ETA 00:09          67.6%rammu\n",
      "[download]  68.9% of 73.58MiB at  3.18MiB/s ETA 00:07          68.9%rammu\n",
      "[download]  71.7% of 73.58MiB at  2.83MiB/s ETA 00:07          71.7%rammu\n",
      "[download]  75.1% of 73.58MiB at  2.32MiB/s ETA 00:07          75.1%rammu\n",
      "[download]  77.6% of 73.58MiB at  1.97MiB/s ETA 00:08          77.6%rammu\n",
      "[download]  79.2% of 73.58MiB at  1.79MiB/s ETA 00:08          79.2%rammu\n",
      "[download]  79.2% of 73.58MiB at 64.01KiB/s ETA 04:05          79.2%rammu\n",
      "[download]  79.2% of 73.58MiB at 180.03KiB/s ETA 01:27         79.2%rammu\n",
      "[download]  79.2% of 73.58MiB at 420.07KiB/s ETA 00:37         79.2%rammu\n"
     ]
    },
    {
     "name": "stdout",
     "output_type": "stream",
     "text": [
      "[download]  79.2% of 73.58MiB at 851.31KiB/s ETA 00:18         79.2%rammu\n",
      "[download]  79.2% of 73.58MiB at  1.54MiB/s ETA 00:09          79.2%rammu\n",
      "[download]  79.3% of 73.58MiB at  2.23MiB/s ETA 00:06          79.3%rammu\n",
      "[download]  79.3% of 73.58MiB at  1.61MiB/s ETA 00:09          79.3%rammu\n",
      "[download]  79.5% of 73.58MiB at  1.91MiB/s ETA 00:07          79.5%rammu\n",
      "[download]  79.9% of 73.58MiB at  2.38MiB/s ETA 00:06          79.9%rammu\n",
      "[download]  80.5% of 73.58MiB at  2.16MiB/s ETA 00:06          80.5%rammu\n",
      "[download]  81.9% of 73.58MiB at  2.29MiB/s ETA 00:05          81.9%rammu\n",
      "[download]  84.6% of 73.58MiB at  1.90MiB/s ETA 00:05          84.6%rammu\n",
      "[download]  86.8% of 73.58MiB at  1.32MiB/s ETA 00:07          86.8%rammu\n",
      "[download]  87.9% of 73.58MiB at  1.10MiB/s ETA 00:08          87.9%rammu\n",
      "[download]  88.6% of 73.58MiB at 1022.23KiB/s ETA 00:08        88.6%rammu\n",
      "[download]  89.2% of 73.58MiB at 989.88KiB/s ETA 00:08         89.2%rammu\n",
      "[download]  90.1% of 73.58MiB at 910.83KiB/s ETA 00:08         90.1%rammu\n",
      "[download]  90.8% of 73.58MiB at 878.31KiB/s ETA 00:07         90.8%rammu\n",
      "[download]  91.5% of 73.58MiB at 865.22KiB/s ETA 00:07         91.5%rammu\n",
      "[download]  92.4% of 73.58MiB at 891.85KiB/s ETA 00:06         92.4%rammu\n",
      "[download]  92.6% of 73.58MiB at 899.33KiB/s ETA 00:06         92.6%rammu\n",
      "[download]  92.6% of 73.58MiB at 258.03KiB/s ETA 00:21         92.6%rammu\n",
      "[download]  92.6% of 73.58MiB at 613.68KiB/s ETA 00:09         92.6%rammu\n",
      "[download]  92.6% of 73.58MiB at  1.16MiB/s ETA 00:04          92.6%rammu\n",
      "[download]  92.7% of 73.58MiB at  2.13MiB/s ETA 00:02          92.7%rammu\n",
      "[download]  92.7% of 73.58MiB at  3.42MiB/s ETA 00:01          92.7%rammu\n",
      "[download]  92.7% of 73.58MiB at  5.67MiB/s ETA 00:00          92.7%rammu\n",
      "[download]  92.8% of 73.58MiB at  1.68MiB/s ETA 00:03          92.8%rammu\n",
      "[download]  93.0% of 73.58MiB at  1.93MiB/s ETA 00:02          93.0%rammu\n",
      "[download]  93.3% of 73.58MiB at  2.14MiB/s ETA 00:02          93.3%rammu\n",
      "[download]  94.0% of 73.58MiB at  2.42MiB/s ETA 00:01          94.0%rammu\n",
      "[download]  95.4% of 73.58MiB at  2.15MiB/s ETA 00:01          95.4%rammu\n",
      "[download]  98.0% of 73.58MiB at  1.84MiB/s ETA 00:00          98.0%rammu\n",
      "[download] 100.0% of 73.58MiB at  1.60MiB/s ETA 00:00         100.0%rammu\n",
      "[download] 100% of 73.58MiB in 01:01                          \n",
      "Done downloading DevOps and Git Workflows explained _ Crash Course-0pBUfrLi_Q0.mp4\n"
     ]
    },
    {
     "data": {
      "text/plain": [
       "False"
      ]
     },
     "execution_count": 47,
     "metadata": {},
     "output_type": "execute_result"
    }
   ],
   "source": [
    "download_clip('https://www.youtube.com/watch?v=0pBUfrLi_Q0',\"uuuu\")"
   ]
  },
  {
   "cell_type": "code",
   "execution_count": 28,
   "metadata": {},
   "outputs": [
    {
     "ename": "TypeError",
     "evalue": "string indices must be integers",
     "output_type": "error",
     "traceback": [
      "\u001b[1;31m---------------------------------------------------------------------------\u001b[0m",
      "\u001b[1;31mTypeError\u001b[0m                                 Traceback (most recent call last)",
      "\u001b[1;32m<ipython-input-28-6bdd1d211803>\u001b[0m in \u001b[0;36m<module>\u001b[1;34m\u001b[0m\n\u001b[1;32m----> 1\u001b[1;33m \u001b[0mmy_hook\u001b[0m\u001b[1;33m(\u001b[0m\u001b[1;34m'https://www.youtube.com/watch?v=0pBUfrLi_Q0'\u001b[0m\u001b[1;33m)\u001b[0m\u001b[1;33m\u001b[0m\u001b[1;33m\u001b[0m\u001b[0m\n\u001b[0m",
      "\u001b[1;32m<ipython-input-19-9987d690005d>\u001b[0m in \u001b[0;36mmy_hook\u001b[1;34m(d)\u001b[0m\n\u001b[0;32m      1\u001b[0m \u001b[1;32mdef\u001b[0m \u001b[0mmy_hook\u001b[0m\u001b[1;33m(\u001b[0m\u001b[0md\u001b[0m\u001b[1;33m)\u001b[0m\u001b[1;33m:\u001b[0m\u001b[1;33m\u001b[0m\u001b[1;33m\u001b[0m\u001b[0m\n\u001b[1;32m----> 2\u001b[1;33m     \u001b[1;32mif\u001b[0m \u001b[0md\u001b[0m\u001b[1;33m[\u001b[0m\u001b[1;34m'status'\u001b[0m\u001b[1;33m]\u001b[0m \u001b[1;33m==\u001b[0m \u001b[1;34m'finished'\u001b[0m\u001b[1;33m:\u001b[0m\u001b[1;33m\u001b[0m\u001b[1;33m\u001b[0m\u001b[0m\n\u001b[0m\u001b[0;32m      3\u001b[0m         \u001b[0mfile_tuple\u001b[0m \u001b[1;33m=\u001b[0m \u001b[0mos\u001b[0m\u001b[1;33m.\u001b[0m\u001b[0mpath\u001b[0m\u001b[1;33m.\u001b[0m\u001b[0msplit\u001b[0m\u001b[1;33m(\u001b[0m\u001b[0mos\u001b[0m\u001b[1;33m.\u001b[0m\u001b[0mpath\u001b[0m\u001b[1;33m.\u001b[0m\u001b[0mabspath\u001b[0m\u001b[1;33m(\u001b[0m\u001b[0md\u001b[0m\u001b[1;33m[\u001b[0m\u001b[1;34m'filename'\u001b[0m\u001b[1;33m]\u001b[0m\u001b[1;33m)\u001b[0m\u001b[1;33m)\u001b[0m\u001b[1;33m\u001b[0m\u001b[1;33m\u001b[0m\u001b[0m\n\u001b[0;32m      4\u001b[0m         \u001b[0mprint\u001b[0m\u001b[1;33m(\u001b[0m\u001b[1;34m\"Done downloading {}\"\u001b[0m\u001b[1;33m.\u001b[0m\u001b[0mformat\u001b[0m\u001b[1;33m(\u001b[0m\u001b[0mfile_tuple\u001b[0m\u001b[1;33m[\u001b[0m\u001b[1;36m1\u001b[0m\u001b[1;33m]\u001b[0m\u001b[1;33m)\u001b[0m\u001b[1;33m)\u001b[0m\u001b[1;33m\u001b[0m\u001b[1;33m\u001b[0m\u001b[0m\n\u001b[0;32m      5\u001b[0m     \u001b[1;32mif\u001b[0m \u001b[0md\u001b[0m\u001b[1;33m[\u001b[0m\u001b[1;34m'status'\u001b[0m\u001b[1;33m]\u001b[0m \u001b[1;33m==\u001b[0m \u001b[1;34m'downloading'\u001b[0m\u001b[1;33m:\u001b[0m\u001b[1;33m\u001b[0m\u001b[1;33m\u001b[0m\u001b[0m\n",
      "\u001b[1;31mTypeError\u001b[0m: string indices must be integers"
     ]
    }
   ],
   "source": [
    "my_hook('https://www.youtube.com/watch?v=0pBUfrLi_Q0')"
   ]
  },
  {
   "cell_type": "code",
   "execution_count": 26,
   "metadata": {},
   "outputs": [],
   "source": [
    "\n",
    "class Downloader(object):\n",
    "    def get_opts(self):\n",
    "        ydl_opts = {\n",
    "            'format': '136',\n",
    "            'progress_hooks': [my_hook],\n",
    "        }\n",
    "        print (ydl_opts[\"progress_hooks\"])\n",
    "        return ydl_opts\n",
    "\n",
    "    def download(self, song):\n",
    "        ydl = youtube_dl.YoutubeDL(self.get_opts())\n",
    "        ydl.download([song])\n",
    "       "
   ]
  },
  {
   "cell_type": "code",
   "execution_count": 27,
   "metadata": {},
   "outputs": [
    {
     "name": "stdout",
     "output_type": "stream",
     "text": [
      "[<function my_hook at 0x05EB5190>]\n",
      "[youtube] 0pBUfrLi_Q0: Downloading webpage\n",
      "[download] Destination: DevOps and Git Workflows explained _ Crash Course-0pBUfrLi_Q0.mp4\n",
      "[download] 100% of 73.58MiB in 01:17                          \n",
      "Done downloading DevOps and Git Workflows explained _ Crash Course-0pBUfrLi_Q0.mp4\n"
     ]
    }
   ],
   "source": [
    "dn = Downloader()\n",
    "dn.download('https://www.youtube.com/watch?v=0pBUfrLi_Q0')"
   ]
  },
  {
   "cell_type": "code",
   "execution_count": null,
   "metadata": {},
   "outputs": [],
   "source": [
    " def get_opts(self):\n",
    "        ydl_opts = {\n",
    "            'format': 'bestaudio/best',\n",
    "            'outtmpl': os.path.join(app.config['VIDEOS_FOLDER'], '%(id)s.%(ext)s'),\n",
    "            'logger': MyLogger(),\n",
    "            'progress_hooks': [my_hook],\n",
    "        }\n",
    "        return ydl_opts"
   ]
  },
  {
   "cell_type": "code",
   "execution_count": 4,
   "metadata": {
    "scrolled": false
   },
   "outputs": [
    {
     "name": "stdout",
     "output_type": "stream",
     "text": [
      "20190917\n",
      "MSFTImagine\n",
      "19122\n",
      "None\n",
      "None\n",
      "https://i.ytimg.com/vi_webp/0pBUfrLi_Q0/maxresdefault.webp\n",
      "136 - 1280x720 (720p)\n",
      "353\n",
      "DevOps and Git Workflows explained | Crash Course\n",
      "77156604\n",
      "['newline']\n"
     ]
    }
   ],
   "source": [
    "print (meta['upload_date'])\n",
    "print (meta['uploader'])\n",
    "print (meta['view_count'])\n",
    "print (meta['like_count'])\n",
    "print (meta['dislike_count'])\n",
    "print (meta['thumbnail'])\n",
    "print (meta['format'])\n",
    "print (meta['duration'])\n",
    "print (meta['title'])\n",
    "print (meta['filesize'])\n",
    "print (['newline'])"
   ]
  },
  {
   "cell_type": "code",
   "execution_count": 16,
   "metadata": {},
   "outputs": [
    {
     "name": "stdout",
     "output_type": "stream",
     "text": [
      "[youtube] 0pBUfrLi_Q0: Downloading webpage\n",
      "[download] DevOps and Git Workflows explained _ Crash Course-0pBUfrLi_Q0.mp4 has already been downloaded\n",
      "[download] 100% of 73.58MiB\n"
     ]
    },
    {
     "ename": "TypeError",
     "evalue": "'int' object is not subscriptable",
     "output_type": "error",
     "traceback": [
      "\u001b[1;31m---------------------------------------------------------------------------\u001b[0m",
      "\u001b[1;31mTypeError\u001b[0m                                 Traceback (most recent call last)",
      "\u001b[1;32m<ipython-input-16-1392902f00e3>\u001b[0m in \u001b[0;36m<module>\u001b[1;34m\u001b[0m\n\u001b[1;32m----> 1\u001b[1;33m \u001b[0myt\u001b[0m \u001b[1;33m=\u001b[0m \u001b[0mydl\u001b[0m\u001b[1;33m.\u001b[0m\u001b[0mdownload\u001b[0m\u001b[1;33m(\u001b[0m\u001b[1;33m[\u001b[0m\u001b[1;34m'https://www.youtube.com/watch?v=0pBUfrLi_Q0'\u001b[0m\u001b[1;33m]\u001b[0m\u001b[1;33m)\u001b[0m\u001b[1;33m[\u001b[0m\u001b[1;34m\"status\"\u001b[0m\u001b[1;33m]\u001b[0m\u001b[1;33m\u001b[0m\u001b[1;33m\u001b[0m\u001b[0m\n\u001b[0m",
      "\u001b[1;31mTypeError\u001b[0m: 'int' object is not subscriptable"
     ]
    }
   ],
   "source": [
    "yt = ydl.download(['https://www.youtube.com/watch?v=0pBUfrLi_Q0'])[\"status\"]\n"
   ]
  },
  {
   "cell_type": "code",
   "execution_count": 15,
   "metadata": {},
   "outputs": [
    {
     "ename": "SyntaxError",
     "evalue": "unexpected EOF while parsing (<ipython-input-15-a29dd9a179cb>, line 1)",
     "output_type": "error",
     "traceback": [
      "\u001b[1;36m  File \u001b[1;32m\"<ipython-input-15-a29dd9a179cb>\"\u001b[1;36m, line \u001b[1;32m1\u001b[0m\n\u001b[1;33m    print(type(ydl.download())\u001b[0m\n\u001b[1;37m                              ^\u001b[0m\n\u001b[1;31mSyntaxError\u001b[0m\u001b[1;31m:\u001b[0m unexpected EOF while parsing\n"
     ]
    }
   ],
   "source": []
  },
  {
   "cell_type": "code",
   "execution_count": 7,
   "metadata": {},
   "outputs": [
    {
     "name": "stdout",
     "output_type": "stream",
     "text": [
      "video_thumbnails/wJHY-xkURvg\n"
     ]
    },
    {
     "data": {
      "text/plain": [
       "'video_thumbnails/wJHY-xkURvg'"
      ]
     },
     "execution_count": 7,
     "metadata": {},
     "output_type": "execute_result"
    }
   ],
   "source": [
    "def image_display(image):\n",
    "    image = image\n",
    "    image_name = image.split(\"/\")\n",
    "    image_name = image_name[4]\n",
    "    image_name = f\"video_thumbnails/{image_name}\"\n",
    "    im = Image.open(requests.get(image, stream=True).raw)\n",
    "    size = 500, 300\n",
    "    im.thumbnail(size)\n",
    "    im.save(image_name + \".jpg\")\n",
    "    print(image_name)\n",
    "    return image_name\n",
    "image_display(meta['thumbnail'])"
   ]
  },
  {
   "cell_type": "code",
   "execution_count": 24,
   "metadata": {},
   "outputs": [
    {
     "name": "stdout",
     "output_type": "stream",
     "text": [
      "0:13:31\n"
     ]
    }
   ],
   "source": [
    "t = int(meta['duration'])\n",
    "seconds = int(meta['duration']) % (24 * 3600) \n",
    "hour = seconds // 3600\n",
    "seconds %= 3600\n",
    "minutes = seconds // 60\n",
    "seconds %= 60\n",
    "time  = \"%d:%02d:%02d\" % (hour, minutes, seconds)\n",
    "print (time)"
   ]
  },
  {
   "cell_type": "code",
   "execution_count": 22,
   "metadata": {},
   "outputs": [],
   "source": [
    "def convert(): \n",
    "    seconds = int(meta['duration']) % (24 * 3600) \n",
    "    hour = seconds // 3600\n",
    "    seconds %= 3600\n",
    "    minutes = seconds // 60\n",
    "    seconds %= 60\n",
    "    time  = \"%d:%02d:%02d\" % (hour, minutes, seconds)\n",
    "    print(time)\n",
    "    \n"
   ]
  },
  {
   "cell_type": "code",
   "execution_count": 6,
   "metadata": {},
   "outputs": [],
   "source": [
    "def File_name(url):\n",
    "    link = yt(url)\n",
    "    title, thumbnail_url, length = [link.title], link.thumbnail_url, link.length\n",
    "    #print(link, title, thumbnail_url, length)\n",
    "    return  link, title, thumbnail_url, length\n"
   ]
  },
  {
   "cell_type": "code",
   "execution_count": 12,
   "metadata": {},
   "outputs": [],
   "source": [
    "def Filesize(size):\n",
    "    link = File_name(size)[0]\n",
    "    filtered_link = link.streams.filter(progressive = True).first()\n",
    "    filtered_link = filtered_link.filesize\n",
    "    print(link)\n",
    "    return filtered_link"
   ]
  },
  {
   "cell_type": "code",
   "execution_count": 17,
   "metadata": {},
   "outputs": [],
   "source": [
    "def File_quality(url):\n",
    "    video_format = []\n",
    "    link = File_name(url)[0]\n",
    "    filtered_link = link.streams.filter(progressive = True)\n",
    "    for arrt in filtered_link:\n",
    "        res = str(getattr(arrt,'resolution')) \n",
    "        mime_type = str(getattr(arrt,'mime_type'))\n",
    "        mime_type = mime_type.split(\"/\")\n",
    "        mime_type = mime_type[1]\n",
    "        v_formart = mime_type.upper() + \"  \" + res\n",
    "        video_format.append(v_formart)\n",
    "    return video_format"
   ]
  },
  {
   "cell_type": "code",
   "execution_count": 11,
   "metadata": {},
   "outputs": [
    {
     "data": {
      "text/plain": [
       "(<pytube.__main__.YouTube at 0x6dd6220>,\n",
       " ['PyQt5 Tutorial - Images and QPixmap'],\n",
       " 'https://i.ytimg.com/vi/D0iCHFXHb_g/maxresdefault.jpg',\n",
       " 400)"
      ]
     },
     "execution_count": 11,
     "metadata": {},
     "output_type": "execute_result"
    }
   ],
   "source": [
    "File_name(\"https://www.youtube.com/watch?v=D0iCHFXHb_g&t=256s\")"
   ]
  },
  {
   "cell_type": "code",
   "execution_count": 13,
   "metadata": {},
   "outputs": [
    {
     "name": "stdout",
     "output_type": "stream",
     "text": [
      "<pytube.__main__.YouTube object at 0x06DD6490>\n"
     ]
    },
    {
     "data": {
      "text/plain": [
       "16985584"
      ]
     },
     "execution_count": 13,
     "metadata": {},
     "output_type": "execute_result"
    }
   ],
   "source": [
    "Filesize(\"https://www.youtube.com/watch?v=D0iCHFXHb_g&t=256s\")"
   ]
  },
  {
   "cell_type": "code",
   "execution_count": 19,
   "metadata": {},
   "outputs": [
    {
     "data": {
      "text/plain": [
       "['MP4  360p', 'MP4  720p']"
      ]
     },
     "execution_count": 19,
     "metadata": {},
     "output_type": "execute_result"
    }
   ],
   "source": [
    "File_quality(\"https://www.youtube.com/watch?v=D0iCHFXHb_g&t=256s\")\n"
   ]
  },
  {
   "cell_type": "code",
   "execution_count": null,
   "metadata": {},
   "outputs": [],
   "source": [
    "'format':'136'"
   ]
  },
  {
   "cell_type": "code",
   "execution_count": 32,
   "metadata": {},
   "outputs": [],
   "source": [
    "from __future__ import unicode_literals\n",
    "from main import *\n",
    "from PIL import Image\n",
    "from urllib.request import urlretrieve\n",
    "import youtube_dl\n",
    "import requests\n",
    "try:\n",
    "\n",
    "   from StringIO import StringIO\n",
    "\n",
    "except ImportError:\n",
    "\n",
    "   from io import StringIO\n",
    "\n",
    "\n",
    "class VideoDownloader:\n",
    "    \n",
    "    def __init__ (self, url):\n",
    "        self.choice = '136'\n",
    "        self.ydl_opts = {'format':self.choice}\n",
    "        self.url = url\n",
    "        with youtube_dl.YoutubeDL(self.ydl_opts) as ydl:\n",
    "            meta = ydl.extract_info(\n",
    "                self.url, download=False)\n",
    "        self.thumbnail_url = meta['thumbnail']\n",
    "        self.length = meta['duration']\n",
    "        self.size = meta['filesize']\n",
    "        self.title = meta['title']\n",
    "        \n",
    "        \n",
    "    def video_title(self):\n",
    "        return str(self.title)\n",
    "\n",
    "    def video_time(self): \n",
    "        seconds = self.length % (24 * 3600) \n",
    "        hour = seconds // 3600\n",
    "        seconds %= 3600\n",
    "        minutes = seconds // 60\n",
    "        seconds %= 60\n",
    "        time  = \"%d:%02d:%02d\" % (hour, minutes, seconds)\n",
    "        return str(time) \n",
    "\n",
    "    def formated_size(self):\n",
    "        size = self.size\n",
    "        power = 2**10\n",
    "        n = 0\n",
    "        power_labels = {0 : '', 1: 'K', 2: 'M', 3: 'G', 4: 'T'}\n",
    "        while size > power:\n",
    "            size /= power\n",
    "            n += 1\n",
    "        size = f\"{round(size,2)}{power_labels[n]}B\"\n",
    "        return str(size)\n",
    "\n",
    "    def image_display(self):\n",
    "        image = self.thumbnail_url\n",
    "        image_name = image.split(\"/\")\n",
    "        image_name = image_name[4]\n",
    "        image_name = f\"video_thumbnails/{image_name}\"\n",
    "        im = Image.open(requests.get(image, stream=True).raw)\n",
    "        size = 500, 300\n",
    "        im.thumbnail(size)\n",
    "        im.save(image_name + \".jpg\")\n",
    "        print(image_name)\n",
    "        return image_name\n",
    "\n",
    "\n",
    "\n",
    "\n",
    "\n"
   ]
  },
  {
   "cell_type": "code",
   "execution_count": 33,
   "metadata": {},
   "outputs": [
    {
     "name": "stdout",
     "output_type": "stream",
     "text": [
      "[youtube] 0pBUfrLi_Q0: Downloading webpage\n"
     ]
    },
    {
     "data": {
      "text/plain": [
       "'DevOps and Git Workflows explained | Crash Course'"
      ]
     },
     "execution_count": 33,
     "metadata": {},
     "output_type": "execute_result"
    }
   ],
   "source": [
    "vid = VideoDownloader('https://www.youtube.com/watch?v=0pBUfrLi_Q0')\n",
    "vid.video_title()\n"
   ]
  },
  {
   "cell_type": "code",
   "execution_count": null,
   "metadata": {},
   "outputs": [],
   "source": []
  }
 ],
 "metadata": {
  "kernelspec": {
   "display_name": "Python 3",
   "language": "python",
   "name": "python3"
  },
  "language_info": {
   "codemirror_mode": {
    "name": "ipython",
    "version": 3
   },
   "file_extension": ".py",
   "mimetype": "text/x-python",
   "name": "python",
   "nbconvert_exporter": "python",
   "pygments_lexer": "ipython3",
   "version": "3.8.5"
  }
 },
 "nbformat": 4,
 "nbformat_minor": 4
}
