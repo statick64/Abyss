{
 "cells": [
  {
   "cell_type": "code",
   "execution_count": 1,
   "metadata": {},
   "outputs": [],
   "source": [
    "from PIL import Image\n",
    "from urllib.request import urlretrieve\n",
    "import pytube\n",
    "from pytube import YouTube as yt\n",
    "from __future__ import unicode_literals\n",
    "import youtube_dl\n",
    "import requests\n",
    "from pprint import pprint\n",
    "import os\n",
    "import json\n",
    "try:\n",
    "\n",
    "   from StringIO import StringIO\n",
    "\n",
    "except ImportError:\n",
    "\n",
    "   from io import StringIO"
   ]
  },
  {
   "cell_type": "code",
   "execution_count": 14,
   "metadata": {},
   "outputs": [],
   "source": [
    "h = []\n",
    "def my_hook(d):\n",
    "    if d['status'] == 'finished':\n",
    "        file_tuple = os.path.split(os.path.abspath(d['filename']))\n",
    "        print(\"Done downloading {}\".format(file_tuple[1]))\n",
    "    if d['status'] == 'downloading':\n",
    "        num = d['_percent_str'][:3]\n",
    "        return num\n",
    "         "
   ]
  },
  {
   "cell_type": "code",
   "execution_count": 15,
   "metadata": {},
   "outputs": [],
   "source": [
    "def download_clip(url, name):\n",
    "    ydl_opts = {\n",
    "        'format': '136',\n",
    "        'noplaylist': True,\n",
    "        'continue_dl': True,\n",
    "        'progress_hooks': [my_hook],\n",
    "    }\n",
    "    try:\n",
    "        with youtube_dl.YoutubeDL(ydl_opts) as ydl:\n",
    "            ydl.cache.remove()\n",
    "            info_dict = ydl.extract_info(url, download=False)\n",
    "            ydl.prepare_filename(info_dict)\n",
    "            ydl.download([url])\n",
    "            print(my_hook())\n",
    "            \n",
    "    except Exception:\n",
    "        return False \n",
    "\n",
    "\n",
    "    "
   ]
  },
  {
   "cell_type": "code",
   "execution_count": 17,
   "metadata": {},
   "outputs": [
    {
     "name": "stdout",
     "output_type": "stream",
     "text": [
      "Removing cache dir C:\\Users\\Kenne/.cache\\youtube-dl ..\n",
      "[youtube] 0pBUfrLi_Q0: Downloading webpage\n",
      "[youtube] Downloading just video 0pBUfrLi_Q0 because of --no-playlist\n",
      "[youtube] 0pBUfrLi_Q0: Downloading webpage\n",
      "[youtube] Downloading just video 0pBUfrLi_Q0 because of --no-playlist\n",
      "[download] DevOps and Git Workflows explained _ Crash Course-0pBUfrLi_Q0.mp4 has already been downloaded\n",
      "[download] 100% of 73.58MiB\n",
      "Done downloading DevOps and Git Workflows explained _ Crash Course-0pBUfrLi_Q0.mp4\n"
     ]
    },
    {
     "data": {
      "text/plain": [
       "False"
      ]
     },
     "execution_count": 17,
     "metadata": {},
     "output_type": "execute_result"
    }
   ],
   "source": [
    "download_clip('https://www.youtube.com/watch?v=0pBUfrLi_Q0','yy')"
   ]
  },
  {
   "cell_type": "code",
   "execution_count": 18,
   "metadata": {},
   "outputs": [
    {
     "ename": "TypeError",
     "evalue": "string indices must be integers",
     "output_type": "error",
     "traceback": [
      "\u001b[1;31m---------------------------------------------------------------------------\u001b[0m",
      "\u001b[1;31mTypeError\u001b[0m                                 Traceback (most recent call last)",
      "\u001b[1;32m<ipython-input-18-6bdd1d211803>\u001b[0m in \u001b[0;36m<module>\u001b[1;34m\u001b[0m\n\u001b[1;32m----> 1\u001b[1;33m \u001b[0mmy_hook\u001b[0m\u001b[1;33m(\u001b[0m\u001b[1;34m'https://www.youtube.com/watch?v=0pBUfrLi_Q0'\u001b[0m\u001b[1;33m)\u001b[0m\u001b[1;33m\u001b[0m\u001b[1;33m\u001b[0m\u001b[0m\n\u001b[0m",
      "\u001b[1;32m<ipython-input-14-05baf7cf660a>\u001b[0m in \u001b[0;36mmy_hook\u001b[1;34m(d)\u001b[0m\n\u001b[0;32m      1\u001b[0m \u001b[0mh\u001b[0m \u001b[1;33m=\u001b[0m \u001b[1;33m[\u001b[0m\u001b[1;33m]\u001b[0m\u001b[1;33m\u001b[0m\u001b[1;33m\u001b[0m\u001b[0m\n\u001b[0;32m      2\u001b[0m \u001b[1;32mdef\u001b[0m \u001b[0mmy_hook\u001b[0m\u001b[1;33m(\u001b[0m\u001b[0md\u001b[0m\u001b[1;33m)\u001b[0m\u001b[1;33m:\u001b[0m\u001b[1;33m\u001b[0m\u001b[1;33m\u001b[0m\u001b[0m\n\u001b[1;32m----> 3\u001b[1;33m     \u001b[1;32mif\u001b[0m \u001b[0md\u001b[0m\u001b[1;33m[\u001b[0m\u001b[1;34m'status'\u001b[0m\u001b[1;33m]\u001b[0m \u001b[1;33m==\u001b[0m \u001b[1;34m'finished'\u001b[0m\u001b[1;33m:\u001b[0m\u001b[1;33m\u001b[0m\u001b[1;33m\u001b[0m\u001b[0m\n\u001b[0m\u001b[0;32m      4\u001b[0m         \u001b[0mfile_tuple\u001b[0m \u001b[1;33m=\u001b[0m \u001b[0mos\u001b[0m\u001b[1;33m.\u001b[0m\u001b[0mpath\u001b[0m\u001b[1;33m.\u001b[0m\u001b[0msplit\u001b[0m\u001b[1;33m(\u001b[0m\u001b[0mos\u001b[0m\u001b[1;33m.\u001b[0m\u001b[0mpath\u001b[0m\u001b[1;33m.\u001b[0m\u001b[0mabspath\u001b[0m\u001b[1;33m(\u001b[0m\u001b[0md\u001b[0m\u001b[1;33m[\u001b[0m\u001b[1;34m'filename'\u001b[0m\u001b[1;33m]\u001b[0m\u001b[1;33m)\u001b[0m\u001b[1;33m)\u001b[0m\u001b[1;33m\u001b[0m\u001b[1;33m\u001b[0m\u001b[0m\n\u001b[0;32m      5\u001b[0m         \u001b[0mprint\u001b[0m\u001b[1;33m(\u001b[0m\u001b[1;34m\"Done downloading {}\"\u001b[0m\u001b[1;33m.\u001b[0m\u001b[0mformat\u001b[0m\u001b[1;33m(\u001b[0m\u001b[0mfile_tuple\u001b[0m\u001b[1;33m[\u001b[0m\u001b[1;36m1\u001b[0m\u001b[1;33m]\u001b[0m\u001b[1;33m)\u001b[0m\u001b[1;33m)\u001b[0m\u001b[1;33m\u001b[0m\u001b[1;33m\u001b[0m\u001b[0m\n",
      "\u001b[1;31mTypeError\u001b[0m: string indices must be integers"
     ]
    }
   ],
   "source": [
    "my_hook('https://www.youtube.com/watch?v=0pBUfrLi_Q0')"
   ]
  },
  {
   "cell_type": "code",
   "execution_count": 12,
   "metadata": {},
   "outputs": [],
   "source": [
    "\n",
    "class Downloader(object):\n",
    "    def __init__ (self,percent):\n",
    "        self.percent = percent \n",
    "        print(percent)\n",
    "    def my_hook(self, d):\n",
    "        if d['status'] == 'finished':\n",
    "            file_tuple = os.path.split(os.path.abspath(d['filename']))\n",
    "            print(\"Done downloading {}\".format(file_tuple[1]))\n",
    "        if d['status'] == 'downloading':\n",
    "            self.percent = d['_percent_str'][:3]\n",
    "\n",
    "    \n",
    "    def get_opts(self):\n",
    "        ydl_opts = {\n",
    "            'format': '133',\n",
    "            'progress_hooks': [self.my_hook],\n",
    "        }\n",
    "\n",
    "    def download(self, song):\n",
    "        ydl = youtube_dl.YoutubeDL(self.get_opts())\n",
    "        ydl.download([song])\n",
    "        print(self.percent)\n",
    "\n",
    "       "
   ]
  },
  {
   "cell_type": "code",
   "execution_count": 14,
   "metadata": {},
   "outputs": [
    {
     "name": "stdout",
     "output_type": "stream",
     "text": [
      "0\n",
      "[youtube] 0pBUfrLi_Q0: Downloading webpage\n",
      "[download] Destination: DevOps and Git Workflows explained _ Crash Course-0pBUfrLi_Q0.mp4\n",
      "[download] 100% of 78.98MiB in 01:17                   \n",
      "0\n"
     ]
    }
   ],
   "source": [
    "dn = Downloader(\"0\")\n",
    "while dn.download('https://www.youtube.com/watch?v=0pBUfrLi_Q0'):\n",
    "    print(dn.percent)\n"
   ]
  },
  {
   "cell_type": "code",
   "execution_count": null,
   "metadata": {},
   "outputs": [],
   "source": [
    " def get_opts(self):\n",
    "        ydl_opts = {\n",
    "            'format': 'bestaudio/best',\n",
    "            'outtmpl': os.path.join(app.config['VIDEOS_FOLDER'], '%(id)s.%(ext)s'),\n",
    "            'logger': MyLogger(),\n",
    "            'progress_hooks': [my_hook],\n",
    "        }\n",
    "        return ydl_opts"
   ]
  },
  {
   "cell_type": "code",
   "execution_count": 4,
   "metadata": {
    "scrolled": false
   },
   "outputs": [
    {
     "name": "stdout",
     "output_type": "stream",
     "text": [
      "20190917\n",
      "MSFTImagine\n",
      "19122\n",
      "None\n",
      "None\n",
      "https://i.ytimg.com/vi_webp/0pBUfrLi_Q0/maxresdefault.webp\n",
      "136 - 1280x720 (720p)\n",
      "353\n",
      "DevOps and Git Workflows explained | Crash Course\n",
      "77156604\n",
      "['newline']\n"
     ]
    }
   ],
   "source": [
    "print (meta['upload_date'])\n",
    "print (meta['uploader'])\n",
    "print (meta['view_count'])\n",
    "print (meta['like_count'])\n",
    "print (meta['dislike_count'])\n",
    "print (meta['thumbnail'])\n",
    "print (meta['format'])\n",
    "print (meta['duration'])\n",
    "print (meta['title'])\n",
    "print (meta['filesize'])\n",
    "print (['newline'])"
   ]
  },
  {
   "cell_type": "code",
   "execution_count": 16,
   "metadata": {},
   "outputs": [
    {
     "name": "stdout",
     "output_type": "stream",
     "text": [
      "[youtube] 0pBUfrLi_Q0: Downloading webpage\n",
      "[download] DevOps and Git Workflows explained _ Crash Course-0pBUfrLi_Q0.mp4 has already been downloaded\n",
      "[download] 100% of 73.58MiB\n"
     ]
    },
    {
     "ename": "TypeError",
     "evalue": "'int' object is not subscriptable",
     "output_type": "error",
     "traceback": [
      "\u001b[1;31m---------------------------------------------------------------------------\u001b[0m",
      "\u001b[1;31mTypeError\u001b[0m                                 Traceback (most recent call last)",
      "\u001b[1;32m<ipython-input-16-1392902f00e3>\u001b[0m in \u001b[0;36m<module>\u001b[1;34m\u001b[0m\n\u001b[1;32m----> 1\u001b[1;33m \u001b[0myt\u001b[0m \u001b[1;33m=\u001b[0m \u001b[0mydl\u001b[0m\u001b[1;33m.\u001b[0m\u001b[0mdownload\u001b[0m\u001b[1;33m(\u001b[0m\u001b[1;33m[\u001b[0m\u001b[1;34m'https://www.youtube.com/watch?v=0pBUfrLi_Q0'\u001b[0m\u001b[1;33m]\u001b[0m\u001b[1;33m)\u001b[0m\u001b[1;33m[\u001b[0m\u001b[1;34m\"status\"\u001b[0m\u001b[1;33m]\u001b[0m\u001b[1;33m\u001b[0m\u001b[1;33m\u001b[0m\u001b[0m\n\u001b[0m",
      "\u001b[1;31mTypeError\u001b[0m: 'int' object is not subscriptable"
     ]
    }
   ],
   "source": [
    "yt = ydl.download(['https://www.youtube.com/watch?v=0pBUfrLi_Q0'])[\"status\"]\n"
   ]
  },
  {
   "cell_type": "code",
   "execution_count": 15,
   "metadata": {},
   "outputs": [
    {
     "ename": "SyntaxError",
     "evalue": "unexpected EOF while parsing (<ipython-input-15-a29dd9a179cb>, line 1)",
     "output_type": "error",
     "traceback": [
      "\u001b[1;36m  File \u001b[1;32m\"<ipython-input-15-a29dd9a179cb>\"\u001b[1;36m, line \u001b[1;32m1\u001b[0m\n\u001b[1;33m    print(type(ydl.download())\u001b[0m\n\u001b[1;37m                              ^\u001b[0m\n\u001b[1;31mSyntaxError\u001b[0m\u001b[1;31m:\u001b[0m unexpected EOF while parsing\n"
     ]
    }
   ],
   "source": []
  },
  {
   "cell_type": "code",
   "execution_count": 7,
   "metadata": {},
   "outputs": [
    {
     "name": "stdout",
     "output_type": "stream",
     "text": [
      "video_thumbnails/wJHY-xkURvg\n"
     ]
    },
    {
     "data": {
      "text/plain": [
       "'video_thumbnails/wJHY-xkURvg'"
      ]
     },
     "execution_count": 7,
     "metadata": {},
     "output_type": "execute_result"
    }
   ],
   "source": [
    "def image_display(image):\n",
    "    image = image\n",
    "    image_name = image.split(\"/\")\n",
    "    image_name = image_name[4]\n",
    "    image_name = f\"video_thumbnails/{image_name}\"\n",
    "    im = Image.open(requests.get(image, stream=True).raw)\n",
    "    size = 500, 300\n",
    "    im.thumbnail(size)\n",
    "    im.save(image_name + \".jpg\")\n",
    "    print(image_name)\n",
    "    return image_name\n",
    "image_display(meta['thumbnail'])"
   ]
  },
  {
   "cell_type": "code",
   "execution_count": 24,
   "metadata": {},
   "outputs": [
    {
     "name": "stdout",
     "output_type": "stream",
     "text": [
      "0:13:31\n"
     ]
    }
   ],
   "source": [
    "t = int(meta['duration'])\n",
    "seconds = int(meta['duration']) % (24 * 3600) \n",
    "hour = seconds // 3600\n",
    "seconds %= 3600\n",
    "minutes = seconds // 60\n",
    "seconds %= 60\n",
    "time  = \"%d:%02d:%02d\" % (hour, minutes, seconds)\n",
    "print (time)"
   ]
  },
  {
   "cell_type": "code",
   "execution_count": 22,
   "metadata": {},
   "outputs": [],
   "source": [
    "def convert(): \n",
    "    seconds = int(meta['duration']) % (24 * 3600) \n",
    "    hour = seconds // 3600\n",
    "    seconds %= 3600\n",
    "    minutes = seconds // 60\n",
    "    seconds %= 60\n",
    "    time  = \"%d:%02d:%02d\" % (hour, minutes, seconds)\n",
    "    print(time)\n",
    "    \n"
   ]
  },
  {
   "cell_type": "code",
   "execution_count": 6,
   "metadata": {},
   "outputs": [],
   "source": [
    "def File_name(url):\n",
    "    link = yt(url)\n",
    "    title, thumbnail_url, length = [link.title], link.thumbnail_url, link.length\n",
    "    #print(link, title, thumbnail_url, length)\n",
    "    return  link, title, thumbnail_url, length\n"
   ]
  },
  {
   "cell_type": "code",
   "execution_count": 12,
   "metadata": {},
   "outputs": [],
   "source": [
    "def Filesize(size):\n",
    "    link = File_name(size)[0]\n",
    "    filtered_link = link.streams.filter(progressive = True).first()\n",
    "    filtered_link = filtered_link.filesize\n",
    "    print(link)\n",
    "    return filtered_link"
   ]
  },
  {
   "cell_type": "code",
   "execution_count": 17,
   "metadata": {},
   "outputs": [],
   "source": [
    "def File_quality(url):\n",
    "    video_format = []\n",
    "    link = File_name(url)[0]\n",
    "    filtered_link = link.streams.filter(progressive = True)\n",
    "    for arrt in filtered_link:\n",
    "        res = str(getattr(arrt,'resolution')) \n",
    "        mime_type = str(getattr(arrt,'mime_type'))\n",
    "        mime_type = mime_type.split(\"/\")\n",
    "        mime_type = mime_type[1]\n",
    "        v_formart = mime_type.upper() + \"  \" + res\n",
    "        video_format.append(v_formart)\n",
    "    return video_format"
   ]
  },
  {
   "cell_type": "code",
   "execution_count": 11,
   "metadata": {},
   "outputs": [
    {
     "data": {
      "text/plain": [
       "(<pytube.__main__.YouTube at 0x6dd6220>,\n",
       " ['PyQt5 Tutorial - Images and QPixmap'],\n",
       " 'https://i.ytimg.com/vi/D0iCHFXHb_g/maxresdefault.jpg',\n",
       " 400)"
      ]
     },
     "execution_count": 11,
     "metadata": {},
     "output_type": "execute_result"
    }
   ],
   "source": [
    "File_name(\"https://www.youtube.com/watch?v=D0iCHFXHb_g&t=256s\")"
   ]
  },
  {
   "cell_type": "code",
   "execution_count": 13,
   "metadata": {},
   "outputs": [
    {
     "name": "stdout",
     "output_type": "stream",
     "text": [
      "<pytube.__main__.YouTube object at 0x06DD6490>\n"
     ]
    },
    {
     "data": {
      "text/plain": [
       "16985584"
      ]
     },
     "execution_count": 13,
     "metadata": {},
     "output_type": "execute_result"
    }
   ],
   "source": [
    "Filesize(\"https://www.youtube.com/watch?v=D0iCHFXHb_g&t=256s\")"
   ]
  },
  {
   "cell_type": "code",
   "execution_count": 19,
   "metadata": {},
   "outputs": [
    {
     "data": {
      "text/plain": [
       "['MP4  360p', 'MP4  720p']"
      ]
     },
     "execution_count": 19,
     "metadata": {},
     "output_type": "execute_result"
    }
   ],
   "source": [
    "File_quality(\"https://www.youtube.com/watch?v=D0iCHFXHb_g&t=256s\")\n"
   ]
  },
  {
   "cell_type": "code",
   "execution_count": null,
   "metadata": {},
   "outputs": [],
   "source": [
    "'format':'136'"
   ]
  },
  {
   "cell_type": "code",
   "execution_count": 2,
   "metadata": {},
   "outputs": [],
   "source": [
    "from __future__ import unicode_literals\n",
    "from main import *\n",
    "from PIL import Image\n",
    "from urllib.request import urlretrieve\n",
    "import youtube_dl\n",
    "import requests\n",
    "try:\n",
    "\n",
    "   from StringIO import StringIO\n",
    "\n",
    "except ImportError:\n",
    "\n",
    "   from io import StringIO\n",
    "\n",
    "\n",
    "class VideoDownloader:\n",
    "    \n",
    "    def __init__ (self, url):\n",
    "        self.choice = '136'\n",
    "        self.ydl_opts = {'format':self.choice}\n",
    "        self.url = url\n",
    "        with youtube_dl.YoutubeDL(self.ydl_opts) as ydl:\n",
    "            meta = ydl.extract_info(\n",
    "                self.url, download=False)\n",
    "        self.thumbnail_url = meta['thumbnail']\n",
    "        self.length = meta['duration']\n",
    "        self.size = meta['filesize']\n",
    "        self.title = meta['title']\n",
    "        \n",
    "        \n",
    "    def video_title(self):\n",
    "        return str(self.title)\n",
    "\n",
    "    def video_time(self): \n",
    "        seconds = self.length % (24 * 3600) \n",
    "        hour = seconds // 3600\n",
    "        seconds %= 3600\n",
    "        minutes = seconds // 60\n",
    "        seconds %= 60\n",
    "        time  = \"%d:%02d:%02d\" % (hour, minutes, seconds)\n",
    "        return str(time) \n",
    "\n",
    "    def formated_size(self):\n",
    "        size = self.size\n",
    "        power = 2**10\n",
    "        n = 0\n",
    "        power_labels = {0 : '', 1: 'K', 2: 'M', 3: 'G', 4: 'T'}\n",
    "        while size > power:\n",
    "            size /= power\n",
    "            n += 1\n",
    "        size = f\"{round(size,2)}{power_labels[n]}B\"\n",
    "        return str(size)\n",
    "\n",
    "    def image_display(self):\n",
    "        image = self.thumbnail_url\n",
    "        image_name = image.split(\"/\")\n",
    "        image_name = image_name[4]\n",
    "        image_name = f\"video_thumbnails/{image_name}\"\n",
    "        im = Image.open(requests.get(image, stream=True).raw)\n",
    "        size = 500, 300\n",
    "        im.thumbnail(size)\n",
    "        im.save(image_name + \".jpg\")\n",
    "        print(image_name)\n",
    "        return image_name\n",
    "\n",
    "\n",
    "\n",
    "\n",
    "\n"
   ]
  },
  {
   "cell_type": "code",
   "execution_count": 3,
   "metadata": {},
   "outputs": [
    {
     "name": "stdout",
     "output_type": "stream",
     "text": [
      "[youtube] 0pBUfrLi_Q0: Downloading webpage\n"
     ]
    },
    {
     "data": {
      "text/plain": [
       "'73.58MB'"
      ]
     },
     "execution_count": 3,
     "metadata": {},
     "output_type": "execute_result"
    }
   ],
   "source": [
    "vid = VideoDownloader('https://www.youtube.com/watch?v=0pBUfrLi_Q0')\n",
    "vid.formated_size()\n"
   ]
  },
  {
   "cell_type": "code",
   "execution_count": 26,
   "metadata": {},
   "outputs": [],
   "source": [
    "class Downloaders(object):\n",
    "    def __init__ (self):\n",
    "        percent = \"0\"\n",
    "        self.percent = percent\n",
    "\n",
    "        \n",
    "    def my_hook(self, d):\n",
    "        if d['status'] == 'downloading':\n",
    "            self.percent = d['_percent_str'][:3]\n",
    "            print(self.percent)\n",
    "    \n",
    "    \n",
    "    \n",
    "    def get_opts(self):\n",
    "        ydl_opts = {\n",
    "            'format': '133',\n",
    "            'progress_hooks': [self.my_hook],\n",
    "        }\n",
    "\n",
    "\n",
    "    def download(self, song):\n",
    "        ydl = youtube_dl.YoutubeDL(self.get_opts())\n",
    "        ydl.download([song])\n",
    "\n",
    "        "
   ]
  },
  {
   "cell_type": "code",
   "execution_count": 27,
   "metadata": {},
   "outputs": [
    {
     "name": "stdout",
     "output_type": "stream",
     "text": [
      "[youtube] D0iCHFXHb_g: Downloading webpage\n",
      "[download] Destination: PyQt5 Tutorial - Images and QPixmap-D0iCHFXHb_g.mp4\n",
      "[download] 100% of 22.81MiB in 00:13                   \n"
     ]
    }
   ],
   "source": [
    "dn = Downloaders()\n",
    "dn.download(\"https://www.youtube.com/watch?v=D0iCHFXHb_g&t=256s\")"
   ]
  },
  {
   "cell_type": "code",
   "execution_count": 4,
   "metadata": {},
   "outputs": [
    {
     "name": "stdout",
     "output_type": "stream",
     "text": [
      "(200, 200)\n",
      "(350, 350)\n"
     ]
    }
   ],
   "source": [
    "image = Image.open('404.jpg')\n",
    "new_image = image.resize((350, 350))\n",
    "new_image.save('image_404.jpg')\n",
    "\n",
    "print(image.size)\n",
    "print(new_image.size) "
   ]
  }
 ],
 "metadata": {
  "kernelspec": {
   "display_name": "Python 3",
   "language": "python",
   "name": "python3"
  },
  "language_info": {
   "codemirror_mode": {
    "name": "ipython",
    "version": 3
   },
   "file_extension": ".py",
   "mimetype": "text/x-python",
   "name": "python",
   "nbconvert_exporter": "python",
   "pygments_lexer": "ipython3",
   "version": "3.8.5"
  }
 },
 "nbformat": 4,
 "nbformat_minor": 4
}
